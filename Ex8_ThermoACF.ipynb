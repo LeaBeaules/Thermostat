{
 "cells": [
  {
   "cell_type": "markdown",
   "metadata": {},
   "source": [
    "# Exercise 6 :\n",
    "# Lennard-Jones particles and Velocity Verlet integrator\n",
    "\n",
    "* Léa Beaules\n",
    "* 15 December 2020"
   ]
  },
  {
   "cell_type": "code",
   "execution_count": 1,
   "metadata": {},
   "outputs": [],
   "source": [
    "%matplotlib inline\n",
    "import matplotlib.pyplot as plt\n",
    "from matplotlib import animation, rc\n",
    "from IPython.display import HTML\n",
    "import random\n",
    "import copy\n",
    "import numpy as np\n",
    "import scipy as scy\n",
    "from tqdm.notebook import trange, tqdm\n",
    "import time \n",
    "from scipy.stats import maxwell\n",
    "\n",
    "#used for the video\n",
    "import subprocess\n",
    "import glob\n",
    "import os"
   ]
  },
  {
   "cell_type": "markdown",
   "metadata": {},
   "source": [
    "## Task I: Implementation of Berendsen thermostat"
   ]
  },
  {
   "cell_type": "markdown",
   "metadata": {},
   "source": [
    "**Berendsen thermostat** (velocity rescaling factor) \\\n",
    "Later set to T = 300 K with τ = 0.2 ps.\n",
    "\n",
    "$$ \\lambda = \\sqrt{1+ \\frac{\\Delta t}{\\tau}(\\frac{T_{0}}{T}-1)} $$\n",
    "\n"
   ]
  },
  {
   "cell_type": "code",
   "execution_count": 2,
   "metadata": {},
   "outputs": [],
   "source": [
    "def Lambda_fact(Dlt_t, tau, Temp_o, Temp):\n",
    "    lambda_f = np.sqrt( 1 + (Dlt_t/tau)*(Temp_o/Temp -1))\n",
    "    return lambda_f"
   ]
  },
  {
   "cell_type": "markdown",
   "metadata": {},
   "source": [
    "**Maxwell Boltzmann distribution** with a scale parameter $a= \\sqrt{\\frac{k_{b}T}{m}}$"
   ]
  },
  {
   "cell_type": "code",
   "execution_count": 3,
   "metadata": {},
   "outputs": [],
   "source": [
    "def MaxBoltz ():\n",
    "    a = np.sqrt(k_b * Temp_ini / mass)\n",
    "    mx = maxwell(scale=a)     \n",
    "    x = np.linspace(mx.ppf(0.01),mx.ppf(0.99), 100)\n",
    "    velocity_distribution  = mx.rvs(size=1000)\n",
    "    return a, velocity_distribution"
   ]
  },
  {
   "cell_type": "markdown",
   "metadata": {},
   "source": [
    "## Task II: Force autocorrelation and friction coefficient calculation"
   ]
  },
  {
   "cell_type": "markdown",
   "metadata": {},
   "source": [
    "## Task III : Simulation"
   ]
  },
  {
   "cell_type": "markdown",
   "metadata": {},
   "source": [
    "Simulation of 49 particules in a 5x5nm box (with PBC).  \\\n",
    "The interparticle interaction is modeled as a Lennard-Jones potential. \\\n",
    "The Velocity Verlet integrator is used to calculate the motion of the particles.\n",
    "The following constant are used :"
   ]
  },
  {
   "cell_type": "code",
   "execution_count": 4,
   "metadata": {},
   "outputs": [],
   "source": [
    "box = (5,5)#nm²\n",
    "\n",
    "#20000 total time steps in the simulation\n",
    "steps = 100\n",
    "\n",
    "#Number of particles in the box\n",
    "Particule_Nbr = 49\n",
    "mass = 18 #g/mol\n",
    "\n",
    "#Time step (2*e-6 in nm)\n",
    "Dlt_t = 2e-6 #ns = 2fs\n",
    "tau = 2e-4 #ns = 0.2ps\n",
    "\n",
    "k_b = 8.314462 #J⋅K^(-1).mol^(-1)\n",
    "Temp_o = 300 #K\n",
    "\n",
    "#Temperature used for the initial Maxwell-Boltzmann velocity distribution\n",
    "Temp_ini = 100 #K\n",
    "\n",
    "#Constant used in the Lennard Jones potential\n",
    "C_12 = 9.847044 *10**(-6) #kJ mol^-1 nm^12\n",
    "C_6  = 6.2647225 *10**(-3) #kJ mol^-1 nm^6"
   ]
  },
  {
   "cell_type": "markdown",
   "metadata": {},
   "source": [
    "**Position**\n",
    "\n",
    "$x_{k+1} = x_{k} + v_{k} \\Delta t + \\frac{1}{2}a_{k} \\Delta t^{2}$"
   ]
  },
  {
   "cell_type": "code",
   "execution_count": 5,
   "metadata": {},
   "outputs": [],
   "source": [
    "def position (x_k, v_k, a_k, Dlt_t):\n",
    "    x_k1 = x_k + v_k*Dlt_t + (1/2)*a_k*(Dlt_t**2)\n",
    "    return x_k1"
   ]
  },
  {
   "cell_type": "markdown",
   "metadata": {},
   "source": [
    "**Velocity**\n",
    "\n",
    "$v_{k+1} = v_{k} + \\frac{1}{2}( a_{k} + a_{k+1} ) \\Delta t$\n",
    "\n",
    "Maybe the units are wrong and my acceleration difference isso smallthat is does not affect my velocity"
   ]
  },
  {
   "cell_type": "code",
   "execution_count": 6,
   "metadata": {},
   "outputs": [],
   "source": [
    "def velocity (v_k, a_k, a_k1, Dlt_t):\n",
    "    v_k1 = v_k + (1/2)*(a_k+a_k1)*Dlt_t\n",
    "    return v_k1"
   ]
  },
  {
   "cell_type": "markdown",
   "metadata": {},
   "source": [
    "**Potential** (Lennard Jones)\n",
    "\n",
    "$V_{IJ}(r_{ij}) = \\frac{C_{12}}{r_{ij}^{12}}-\\frac{C_{6}}{r_{ij}^{6}}$"
   ]
  },
  {
   "cell_type": "code",
   "execution_count": 7,
   "metadata": {},
   "outputs": [],
   "source": [
    "def potential(r_ij_vect):\n",
    "    #distance between the two particules \n",
    "    r_ij = np.sqrt(r_ij_vect[0]**2 + r_ij_vect[1]**2)\n",
    "    \n",
    "    if r_ij == 0:\n",
    "        return 0\n",
    "    else :\n",
    "        V_ij = C_12/r_ij**(12) - C_6/r_ij**(6)\n",
    "        return V_ij"
   ]
  },
  {
   "cell_type": "code",
   "execution_count": 8,
   "metadata": {},
   "outputs": [],
   "source": [
    "def pot_total(time_t):\n",
    "    V= 0 \n",
    "    \n",
    "    for our_p_ind in range (Particule_Nbr):\n",
    "        our_p = Particules_list[our_p_ind]\n",
    "        for other_p_ind in range(our_p_ind+1 ,Particule_Nbr) :\n",
    "            other_p = Particules_list[other_p_ind]\n",
    "\n",
    "            r_ij_vect = get_vect_r(our_p,other_p)\n",
    "            V += potential(r_ij_vect)\n",
    "            \n",
    "    return V"
   ]
  },
  {
   "cell_type": "code",
   "execution_count": 9,
   "metadata": {},
   "outputs": [],
   "source": [
    "def pot_total_BIS(Relative_dist_arrays_X, Relative_dist_arrays_Y, t):\n",
    "    V= 0 \n",
    "    \n",
    "    for p_ind in range (Particule_Nbr):\n",
    "        #list of relative distances along x and y with all the other particles at time t\n",
    "        r_vectx = Relative_dist_arrays_X[t][p_ind,:] \n",
    "        r_vecty = Relative_dist_arrays_Y[t][p_ind,:]\n",
    "\n",
    "        #Calculating the total potential on (p_ind)th particle\n",
    "        for i in range (len(r_vectx)):\n",
    "            V += potential([r_vectx[i],r_vecty[i]])\n",
    "           \n",
    "    return V"
   ]
  },
  {
   "cell_type": "markdown",
   "metadata": {},
   "source": [
    "**Force / acceleration**\n",
    "\n",
    "$f (t) = mẍ (t) = mv̇ (t) = ma(t)$\n",
    "\n",
    "Mybe I should instead but over all the particule at the end of a step, to get all the relatic=ve distances and calculate all the forces"
   ]
  },
  {
   "cell_type": "markdown",
   "metadata": {},
   "source": [
    "* Calculating the vector r, using the particle class"
   ]
  },
  {
   "cell_type": "code",
   "execution_count": 10,
   "metadata": {},
   "outputs": [],
   "source": [
    "def get_vect_r(particul1, particul2): \n",
    "    x_list =[]\n",
    "    x_list += [particul2.x - particul1.x]\n",
    "    x_list += [particul2.x - particul1.x + box[0]]\n",
    "    x_list += [particul2.x - particul1.x - box[0]]\n",
    "    x_part = min(x_list, key=abs)\n",
    "    \n",
    "    y_list =[]\n",
    "    y_list += [particul2.y - particul1.y]\n",
    "    y_list += [particul2.y - particul1.y + box[1]]\n",
    "    y_list += [particul2.y - particul1.y - box[1]]\n",
    "    y_part = min(y_list, key=abs)\n",
    "    \n",
    "    r = [x_part, y_part]\n",
    "    \n",
    "    return r"
   ]
  },
  {
   "cell_type": "markdown",
   "metadata": {},
   "source": [
    "* Calculating the vector r with the x and y values of the two particles"
   ]
  },
  {
   "cell_type": "code",
   "execution_count": 11,
   "metadata": {},
   "outputs": [],
   "source": [
    "def get_vect_r_BIS(x,y, x2, y2): \n",
    "    x_list =[]\n",
    "    x_list += [x2 - x]\n",
    "    x_list += [x2 - x + box[0]]\n",
    "    x_list += [x2 - x - box[0]]\n",
    "    x_part = min(x_list, key=abs)\n",
    "    \n",
    "    y_list =[]\n",
    "    y_list += [y2 - y]\n",
    "    y_list += [y2 - y + box[1]]\n",
    "    y_list += [y2 - y - box[1]]\n",
    "    y_part = min(y_list, key=abs)\n",
    "    \n",
    "    r = [x_part, y_part]\n",
    "    \n",
    "    return r"
   ]
  },
  {
   "cell_type": "code",
   "execution_count": 12,
   "metadata": {},
   "outputs": [],
   "source": [
    "def force_ij(r_ij_vect):\n",
    "    #distance between the two particules \n",
    "    r_ij = np.sqrt(r_ij_vect[0]**2 + r_ij_vect[1]**2)\n",
    "    \n",
    "    if r_ij != 0: \n",
    "        factor = (12*C_12/r_ij**(13) - 6*C_6/r_ij**(7))/r_ij\n",
    "        Fij_x = factor * r_ij_vect[0]\n",
    "        Fij_y = factor * r_ij_vect[1]\n",
    "        \n",
    "        Fij_vect = [Fij_x, Fij_y]\n",
    "        return Fij_vect\n",
    "    \n",
    "    else :\n",
    "        return [0,0]\n",
    "    \n",
    "    "
   ]
  },
  {
   "cell_type": "markdown",
   "metadata": {},
   "source": [
    "Calculating the for on the (p_ind)th particle using the Relative_dist_arrays "
   ]
  },
  {
   "cell_type": "code",
   "execution_count": 13,
   "metadata": {},
   "outputs": [],
   "source": [
    "def force_BIS(Relative_dist_arrays_X, Relative_dist_arrays_Y,t , p_ind):\n",
    "    F= [0,0] #total force vector acting on our particle\n",
    "    if t > (steps-1):\n",
    "        return F[0,0]\n",
    "    \n",
    "    #list of relative distances along x and y with all the other particles\n",
    "    r_vectx = Relative_dist_arrays_X[t][p_ind,:] \n",
    "    r_vecty = Relative_dist_arrays_Y[t][p_ind,:]\n",
    "    \n",
    "    #Calculating the total force on (p_ind)th particle\n",
    "    for i in range (len(r_vectx)):\n",
    "        Fij_vect = force_ij([r_vectx[i],r_vecty[i]])\n",
    "        \n",
    "        #sum\n",
    "        F[0] += Fij_vect[0]\n",
    "        F[1] += Fij_vect[1]\n",
    "        \n",
    "    return F"
   ]
  },
  {
   "cell_type": "markdown",
   "metadata": {},
   "source": [
    "Maybe using this calculation of the force, the force vector for a specific particle, with p_ind th (indice), if does not use the force function but should not make much difference in running time."
   ]
  },
  {
   "cell_type": "code",
   "execution_count": 14,
   "metadata": {},
   "outputs": [],
   "source": [
    "def force_TER(Relative_dist_arrays_X, Relative_dist_arrays_Y,t, p_ind):\n",
    "    F= [0,0] #total force vector acting on our particle\n",
    "    if t > (steps-1):\n",
    "        return F[0,0]\n",
    "    \n",
    "    #list of relative distances along x and y with all the other particles\n",
    "    #indice in r_vectx/y corespond to the indice of the particle\n",
    "    r_vectx = Relative_dist_arrays_X[t][p_ind,:] \n",
    "    r_vecty = Relative_dist_arrays_Y[t][p_ind,:]\n",
    "    \n",
    "    #r_vect_tot list all the norme of the relative distances\n",
    "    r_vect_tot =[np.sqrt(r_vectx[i]**2 + r_vecty[i]**2) for i in range (len(r_vectx))]\n",
    "\n",
    "    #looping over the the relative distances between our particle and all the other.\n",
    "    particle_ind = 0\n",
    "    Fij_x, Fij_y = 0,0\n",
    "    for r_ij in r_vect_tot:\n",
    "        if r_ij != 0 :\n",
    "            factor = (12*C_12/r_ij**(13) - 6*C_6/r_ij**(7))/r_ij\n",
    "            Fij_x += factor * r_vectx[particle_ind]\n",
    "            Fij_y += factor * r_vectY[particle_ind]\n",
    "        particle_ind += 1\n",
    "\n",
    "    #total force vector\n",
    "    return [Fij_x,Fij_y]"
   ]
  },
  {
   "cell_type": "markdown",
   "metadata": {},
   "source": [
    "Original calculation of the force looping over all the particles distances"
   ]
  },
  {
   "cell_type": "code",
   "execution_count": 15,
   "metadata": {},
   "outputs": [],
   "source": [
    "def force (our_p_ind):\n",
    "    F= [0,0] #total force vector acting on our particle\n",
    "    our_p = Particules_list[our_p_ind]\n",
    "    \n",
    "    for other_p_ind in range(Particule_Nbr) :\n",
    "        if other_p_ind != our_p_ind:\n",
    "            other_p = Particules_list[other_p_ind]\n",
    "            \n",
    "            r_ij_vect = get_vect_r(our_p,other_p)\n",
    "            Fij_vect = force_ij(r_ij_vect)\n",
    "            \n",
    "            F[0] += Fij_vect[0]\n",
    "            F[1] += Fij_vect[1]\n",
    "    return F"
   ]
  },
  {
   "cell_type": "markdown",
   "metadata": {},
   "source": [
    "**Kinetic energy**\n",
    "\n",
    "$E_{kin} = \\frac{1}{2} m <v^{2}>$"
   ]
  },
  {
   "cell_type": "code",
   "execution_count": 16,
   "metadata": {},
   "outputs": [],
   "source": [
    "def Kinetic(Data_traj_list, time_t):\n",
    "    K_list = []\n",
    "    for p_ind in range (Particule_Nbr):\n",
    "        p_vx = Data_traj_list[p_ind][2,time_t]\n",
    "        p_vy = Data_traj_list[p_ind][3,time_t]\n",
    "        v = np.sqrt(p_vx**2 + p_vy**2)\n",
    "        K_list += [v**2]\n",
    "    K = (1/2)*mass*np.mean(K_list)\n",
    "    #print(time_t, v)\n",
    "    return K"
   ]
  },
  {
   "cell_type": "markdown",
   "metadata": {},
   "source": [
    "**Initialisation**"
   ]
  },
  {
   "cell_type": "markdown",
   "metadata": {},
   "source": [
    "* Check that the force function looks correct :"
   ]
  },
  {
   "cell_type": "code",
   "execution_count": 17,
   "metadata": {
    "scrolled": true
   },
   "outputs": [
    {
     "name": "stdout",
     "output_type": "stream",
     "text": [
      "There is a strong repulsive force if a particle gets closer then  0.4347826086956522 nm\n"
     ]
    },
    {
     "data": {
      "image/png": "[encoded data removed]",
      "text/plain": [
       "<Figure size 432x288 with 1 Axes>"
      ]
     },
     "metadata": {
      "needs_background": "light"
     },
     "output_type": "display_data"
    }
   ],
   "source": [
    "a = np.linspace(0,2.5, 70)\n",
    "f =[]\n",
    "for i in range (70):\n",
    "    f += [force_ij([a[i],0])[0]]\n",
    "\n",
    "plt.plot(a[10:],f[10:])\n",
    "plt.title('Potential formed by my function force_ij \\n (with one paritcle)')\n",
    "plt.ylabel('Lennard Jones Force along x')\n",
    "u = plt.xlabel('r(x componant)')\n",
    "mi = f.index(min(f)) #index of the minimum\n",
    "print('There is a strong repulsive force if a particle gets closer then ', a[mi], 'nm')"
   ]
  },
  {
   "cell_type": "markdown",
   "metadata": {},
   "source": [
    "### Relative distance between the particles\n",
    "\n",
    "Creating a gereral list of arrays, with one array per time steps storing the relative distance of the particles. With $r_{ij}$ being the vector r from particle i to particle j :\n",
    "\n",
    "\n",
    "$$\\begin{pmatrix} r_{11}=0 & r_{12}  & \\dots & r_{1N} \\\\ \n",
    "r_{21} & r_{22}=0 & \\dots & r_{2N}\\\\ \n",
    "\\dots &\\dots  &\\ddots &\\dots \\\\\n",
    "r_{N1} & r_{N2} &  \\dots & r_{NN}=0\\end{pmatrix}_{t}$$\n",
    "\n",
    "\n",
    "From the data traj list information it calculates the relative distance between all the particles of the system at the time t given in argument. And updates the gereral Relative_distance_arrays, adding the new arrays for time t\n",
    "\n",
    "-Takes a bit of time to run-"
   ]
  },
  {
   "cell_type": "code",
   "execution_count": 18,
   "metadata": {},
   "outputs": [],
   "source": [
    "def Relative_dist(Relative_dist_arrays_X, Relative_dist_arrays_Y, t):\n",
    "\n",
    "    Relative_dist_arrays_X += [np.zeros((Particule_Nbr,Particule_Nbr))]\n",
    "    Relative_dist_arrays_Y += [np.zeros((Particule_Nbr,Particule_Nbr))]\n",
    "\n",
    "    for p in range (Particule_Nbr):\n",
    "        xp= Data_traj_list[p][0,:]\n",
    "        yp= Data_traj_list[p][1,:]\n",
    "\n",
    "        for p2 in range (p+1,Particule_Nbr):\n",
    "            xp2 = Data_traj_list[p2][0,:]\n",
    "            yp2 = Data_traj_list[p2][1,:]  \n",
    "\n",
    "            #vector r from particle p to particle p2\n",
    "            r_vector = get_vect_r_BIS(xp[t],yp[t], xp2[t], yp2[t]) \n",
    "            Relative_dist_arrays_X[t][p,p2] = r_vector[0]\n",
    "            Relative_dist_arrays_Y[t][p,p2] = r_vector[1]\n",
    "\n",
    "            #opposite vector r from p2 to p\n",
    "            Relative_dist_arrays_X[t][p2,p] = -r_vector[0]\n",
    "            Relative_dist_arrays_Y[t][p2,p] = -r_vector[1]\n",
    "            \n",
    "    return (Relative_dist_arrays_X, Relative_dist_arrays_Y)\n",
    "\n",
    "\n",
    "    #i_lower = np.tril_indices(n, -1)\n",
    "    #matrix[i_lower] = matrix.T[i_lower]"
   ]
  },
  {
   "cell_type": "markdown",
   "metadata": {},
   "source": [
    "**Initialise simulation** \n",
    "\n",
    "The particles are placed on a regular grid of 7x7 particles. They are assigned their initial velocity $|v(x,y)|$ following the Maxwell-Boltzmann distribution at $T=100K$, with random directions. "
   ]
  },
  {
   "cell_type": "code",
   "execution_count": 19,
   "metadata": {},
   "outputs": [],
   "source": [
    "class Particle:\n",
    "    def __init__(self, x, y, vx, vy, ax, ay):\n",
    "        self.x = x\n",
    "        self.y = y\n",
    "        self.vx = vx\n",
    "        self.vy = vy\n",
    "        self.ax = ax\n",
    "        self.ay = ay\n",
    "        \n",
    "    def __repr__(self):\n",
    "        return str(\"This is a particle at %0.2f, %0.2f with v=%0.2f,%0.2f\" % (self.x,self.y,self.vx,self.vy))"
   ]
  },
  {
   "cell_type": "code",
   "execution_count": 20,
   "metadata": {},
   "outputs": [],
   "source": [
    "def Particules_initialise (Particule_Nbr, steps):\n",
    "    Particules_list = []\n",
    "    Data_traj_list = []\n",
    "    a, velocity_distribution = MaxBoltz()\n",
    "\n",
    "    \n",
    "    #regurlar grid 7*7\n",
    "    nx, ny = (7, 7)\n",
    "    x_grid = np.linspace(0, 5, nx+1)\n",
    "    y_grid = np.linspace(0, 5, ny+1)\n",
    "    \n",
    "    d = x_grid[2]-x_grid[1]\n",
    "    \n",
    "    x_grid = x_grid[0:len(x_grid)-1] +d/2\n",
    "    y_grid = y_grid[0:len(y_grid)-1] +d/2\n",
    "    \n",
    "    \n",
    "    print('The space between two particle is : ', d, 'nm')\n",
    "\n",
    "    p_count = 0\n",
    "    for i in range (nx):\n",
    "        for j in range (ny) :\n",
    "            #Initial position on a uniform grid\n",
    "            angle = np.random.uniform(0,2*np.pi)\n",
    "            x_p = x_grid[i]\n",
    "            y_p = y_grid[j]\n",
    "            \n",
    "            #Initial velocities : Maxwell-Boltzmann distribution with random direction\n",
    "            vel = velocity_distribution[np.random.randint(0, len(velocity_distribution))]\n",
    "            vx_p = np.sin(angle)*vel\n",
    "            vy_p = np.cos(angle)*vel\n",
    "            Particules_list += [Particle(x_p, y_p, vx_p, vy_p, 0, 0)]\n",
    "            Data_traj_list += [np.zeros((4,steps))]\n",
    "            \n",
    "            Data_traj_list[p_count][:,0] = [x_p, y_p, vx_p, vy_p] #[particle indice][data type, time step]\n",
    "            \n",
    "            p_count += 1\n",
    "    print('Number of particles = ', p_count)\n",
    "    return Particules_list, Data_traj_list"
   ]
  },
  {
   "cell_type": "code",
   "execution_count": 21,
   "metadata": {
    "scrolled": true
   },
   "outputs": [
    {
     "name": "stdout",
     "output_type": "stream",
     "text": [
      "The space between two particle is :  0.7142857142857143 nm\n",
      "Number of particles =  49\n"
     ]
    }
   ],
   "source": [
    "Particules_list, Data_traj_list = Particules_initialise (Particule_Nbr, steps)"
   ]
  },
  {
   "cell_type": "markdown",
   "metadata": {},
   "source": [
    "**Run Simulation**\n",
    "\n",
    "At the start of the simulation we already have the initial positions, velocities and acceleration/force calculated. At each step we calculate : \\\n",
    "FIRST LOOP :\n",
    "* Position at time t+1\n",
    "\n",
    "Calculate all the relative distance at time t+1\n",
    "\n",
    "SECOND LOOP :\n",
    "* Force at time t+1\n",
    "* Velocities at time t+1\n",
    "\n",
    "END OF TIME STEP\n",
    "* Rescaling the velocities with Berendsen thermostat"
   ]
  },
  {
   "cell_type": "code",
   "execution_count": 22,
   "metadata": {},
   "outputs": [
    {
     "data": {
      "application/vnd.jupyter.widget-view+json": {
       "model_id": "e3f5ab27ae9d4f4a8255291f0658acf7",
       "version_major": 2,
       "version_minor": 0
      },
      "text/plain": [
       "HBox(children=(FloatProgress(value=0.0, max=99.0), HTML(value='')))"
      ]
     },
     "metadata": {},
     "output_type": "display_data"
    },
    {
     "name": "stdout",
     "output_type": "stream",
     "text": [
      "\n"
     ]
    }
   ],
   "source": [
    "#arrays of relative distance between the particles\n",
    "Relative_dist_arrays_X = []\n",
    "Relative_dist_arrays_Y = []\n",
    "Potential_list = [0]*steps\n",
    "\n",
    "# At time = 0\n",
    "Relative_dist_arrays_X, Relative_dist_arrays_Y = Relative_dist(Relative_dist_arrays_X, Relative_dist_arrays_Y, 0)\n",
    "Potential_list[0] = pot_total_BIS(Relative_dist_arrays_X, Relative_dist_arrays_Y, 0)\n",
    "\n",
    "for i in trange (steps-1):    \n",
    "    for p_ind in range (Particule_Nbr):\n",
    "        our_P = Particules_list[p_ind]\n",
    "        # calculating the next position\n",
    "        x_1 = position (our_P.x, our_P.vx , our_P.ax, Dlt_t)%box[0]\n",
    "        y_1 = position (our_P.y, our_P.vy, our_P.ay, Dlt_t)%box[1]\n",
    "        # updating the particule position\n",
    "        our_P.x = x_1\n",
    "        our_P.y = y_1\n",
    "        Data_traj_list[p_ind][0,i+1] = x_1\n",
    "        Data_traj_list[p_ind][1,i+1] = y_1     \n",
    "        \n",
    "    # Calculating the relative distance between all the particles at time i+1 ---> the one that takes the most time !\n",
    "    Relative_dist_arrays_X, Relative_dist_arrays_Y = Relative_dist(Relative_dist_arrays_X, Relative_dist_arrays_Y, i+1)\n",
    "    Potential_list[i+1] = pot_total_BIS(Relative_dist_arrays_X, Relative_dist_arrays_Y, i+1)\n",
    "    \n",
    "    for ind in range (Particule_Nbr):\n",
    "        our_P = Particules_list[ind]\n",
    "        \n",
    "        # calculating the force/acceleration at the next step\n",
    "        F_1 = force_BIS (Relative_dist_arrays_X, Relative_dist_arrays_Y,i+1 ,ind)\n",
    "        ax_1, ay_1 = -F_1[0]*1/(mass*1), -F_1[1]*1/(mass*1)\n",
    "        \n",
    "        #velocity \n",
    "        vx_1 = velocity (our_P.vx, our_P.ax, ax_1, Dlt_t)\n",
    "        vy_1 = velocity (our_P.vy, our_P.ay, ay_1, Dlt_t)\n",
    "\n",
    "        #updating velocity and acceleration \n",
    "        our_P.ax = ax_1\n",
    "        our_P.ay = ay_1\n",
    "        our_P.vx = vx_1\n",
    "        our_P.vy = vy_1\n",
    "        Data_traj_list[ind][2,i+1] = vx_1\n",
    "        Data_traj_list[ind][3,i+1] = vy_1\n",
    "    \n",
    "    #rescaling the velocities\n",
    "    K = Kinetic(Data_traj_list, i+1)\n",
    "    Temp = K / k_b\n",
    "    lbda = Lambda_fact(Dlt_t, tau, Temp_o, Temp)\n",
    "    for ind in range(Particule_Nbr):\n",
    "        Rs_vx = (Data_traj_list[ind][2,i+1]) * lbda\n",
    "        Rs_vy = (Data_traj_list[ind][3,i+1]) * lbda\n",
    "        P = Particules_list[ind]\n",
    "        \n",
    "        P.vx, Data_traj_list[ind][2,i+1] = Rs_vx, Rs_vx\n",
    "        P.vy, Data_traj_list[ind][3,i+1] = Rs_vy, Rs_vy\n",
    "        \n",
    "    "
   ]
  },
  {
   "cell_type": "code",
   "execution_count": 40,
   "metadata": {},
   "outputs": [
    {
     "data": {
      "application/vnd.jupyter.widget-view+json": {
       "model_id": "ab46b10d3ae54edc989e6063fd7dc7cc",
       "version_major": 2,
       "version_minor": 0
      },
      "text/plain": [
       "HBox(children=(FloatProgress(value=0.0, description='Plot the graph of the last simulation', max=1.0, style=Pr…"
      ]
     },
     "metadata": {},
     "output_type": "display_data"
    },
    {
     "name": "stdout",
     "output_type": "stream",
     "text": [
      "\n"
     ]
    },
    {
     "data": {
      "image/png": "[encoded data removed]",
      "text/plain": [
       "<Figure size 432x288 with 1 Axes>"
      ]
     },
     "metadata": {
      "needs_background": "light"
     },
     "output_type": "display_data"
    }
   ],
   "source": [
    "for i in trange(1,desc= 'Plot the graph of the last simulation'):\n",
    "\n",
    "    #def plot_simulation (Particule_Nbr, Data_traj_list, Particules_list):\n",
    "    for parti in range (Particule_Nbr):\n",
    "        data_traj = Data_traj_list[parti]\n",
    "        #Particule = Particules_list[parti]\n",
    "        plt.plot(data_traj[0,:],data_traj[1,:], marker='.', markersize='10',  linestyle = '-')   \n",
    "        \n",
    "    plt.xlabel('position x')\n",
    "    plt.ylabel('position y')\n",
    "    plt.xlim(0,5)\n",
    "    plt.ylim(0,5)\n",
    "\n",
    "    Titles_graph1 = 'Simulation \\n with ' + str(Particule_Nbr)+ ' particules, and' + str(steps) + 'steps'\n",
    "    plt.title(Titles_graph1)"
   ]
  },
  {
   "cell_type": "markdown",
   "metadata": {},
   "source": [
    "* Analyse the force of the first particles coliding"
   ]
  },
  {
   "cell_type": "code",
   "execution_count": 24,
   "metadata": {},
   "outputs": [],
   "source": [
    "np.savez('save.npz', Data_traj_list, Potential_list, Relative_dist_arrays_X, Relative_dist_arrays_Y)"
   ]
  },
  {
   "cell_type": "code",
   "execution_count": 25,
   "metadata": {},
   "outputs": [],
   "source": [
    "#npzfile = np.load('save_array5.npz')\n",
    "#Data_traj_list = npzfile['arr_0']\n",
    "#Potential_list = npzfile['arr_1']"
   ]
  },
  {
   "cell_type": "markdown",
   "metadata": {},
   "source": [
    "### Video"
   ]
  },
  {
   "cell_type": "code",
   "execution_count": 33,
   "metadata": {},
   "outputs": [],
   "source": [
    "def creat_files():\n",
    "    os.chdir(\"Image_storing_video\")\n",
    "\n",
    "    #def plot_simulation (Particule_Nbr, Data_traj_list, Particules_list):\n",
    "    for t in trange (int(8)) :\n",
    "        for parti in range (Particule_Nbr):\n",
    "            data_traj = Data_traj_list[parti]\n",
    "            plt.plot(data_traj[0,t],data_traj[1,t], marker='.', markersize='10',  linestyle = '-', color = 'black')\n",
    "\n",
    "            plt.xlabel('position x')\n",
    "            plt.ylabel('position y')\n",
    "            plt.xlim(0,box[0])\n",
    "            plt.ylim(0,box[1])\n",
    "        plt.savefig(\"File%02d.png\" % t)\n",
    "        #plt.show()\n",
    "        #plt.savefig(\"file.png\")\n",
    "        plt.close()\n",
    "\n",
    "\n",
    "\n",
    "    Titles_graph1 = 'Example of one of the simulation of ' + str(Particule_Nbr)+ ' particules, with' + str(steps) + 'steps'\n",
    "    plt.title(Titles_graph1)\n",
    "    os.chdir(\"../\")"
   ]
  },
  {
   "cell_type": "code",
   "execution_count": 34,
   "metadata": {},
   "outputs": [],
   "source": [
    "def creat_video():\n",
    "    os.chdir(\"Image_storing_video\")\n",
    "    \n",
    "    subprocess.call(['ffmpeg', '-framerate', '8', '-i', 'File%02d.png', '-r', '30', '-pix_fmt', 'yuv420p', 'Contagion04.mp4'])\n",
    "    #subprocess.call(['ffmpeg', '-framerate', '8', '-i', Titles_files, '-r', '30', '-pix_fmt', 'yuv420p', Filename])\n",
    "\n",
    "    \n",
    "    for file_name in glob.glob(\"*.png\"):\n",
    "        os.remove(file_name)\n",
    "\n",
    "    os.chdir(\"../\")"
   ]
  },
  {
   "cell_type": "code",
   "execution_count": 36,
   "metadata": {},
   "outputs": [
    {
     "name": "stdout",
     "output_type": "stream",
     "text": [
      "Current working directory /home/lea/Bureau/Fac/Master/Simulating_the_physical_world/Simulations/ThermoACF\n"
     ]
    },
    {
     "data": {
      "application/vnd.jupyter.widget-view+json": {
       "model_id": "6238ccc450014918a6a06e6d12e963cb",
       "version_major": 2,
       "version_minor": 0
      },
      "text/plain": [
       "HBox(children=(FloatProgress(value=0.0, max=8.0), HTML(value='')))"
      ]
     },
     "metadata": {},
     "output_type": "display_data"
    },
    {
     "name": "stdout",
     "output_type": "stream",
     "text": [
      "\n"
     ]
    },
    {
     "data": {
      "image/png": "[encoded data removed]",
      "text/plain": [
       "<Figure size 432x288 with 1 Axes>"
      ]
     },
     "metadata": {
      "needs_background": "light"
     },
     "output_type": "display_data"
    }
   ],
   "source": [
    "#os.chdir(\"ThermoACF\")\n",
    "retval = os.getcwd()\n",
    "print (\"Current working directory %s\" % retval)\n",
    "creat_files()\n",
    "creat_video()"
   ]
  },
  {
   "cell_type": "markdown",
   "metadata": {},
   "source": [
    "## Task III : Potential and Kinetic energy"
   ]
  },
  {
   "cell_type": "code",
   "execution_count": null,
   "metadata": {},
   "outputs": [],
   "source": [
    "time_list = np.linspace(0,steps/2,steps)"
   ]
  },
  {
   "cell_type": "markdown",
   "metadata": {},
   "source": [
    "**Total potential energy (per step)**"
   ]
  },
  {
   "cell_type": "markdown",
   "metadata": {},
   "source": [
    "Calculating the potential using the relative distance arrays"
   ]
  },
  {
   "cell_type": "code",
   "execution_count": null,
   "metadata": {},
   "outputs": [],
   "source": [
    "\n",
    "from scipy.linalg import sqrtm\n",
    "def pot (t):\n",
    "    # All the other particles relative distances with the p_ind th particle at time t\n",
    "    r_vector_x = Relative_dist_arrays_X[t]\n",
    "    r_vector_y = Relative_dist_arrays_Y[t]\n",
    "\n",
    "    #Calculating the distance with all the other particuls (including over the borders)\n",
    "    rx_sqrd = np.linalg.matrix_power(r_vector_x , 2)\n",
    "    ry_sqrd = np.linalg.matrix_power(r_vector_y , 2)\n",
    "    norme_sqrd = np.add(rx_sqrd, ry_sqrd)\n",
    "    radial_distance_list = sqrtm(norme_sqrd) # SQUARE ROOT\n",
    "    #radial_distance_list = [np.sqrt(r_vector_x[i]**2 + r_vector_y[i]**2) for i in range (len(r_vector_x))]\n",
    "\n",
    "    RDist_12 = np.linalg.matrix_power(radial_distance_list, -12)*C_12\n",
    "    RDist_6 = np.linalg.matrix_power(radial_distance_list, -6)*C_6\n",
    "\n",
    "    pot = np.sum(np.subtract(RDist_12,RDist_6))\n",
    "    \n",
    "    return pot"
   ]
  },
  {
   "cell_type": "code",
   "execution_count": null,
   "metadata": {},
   "outputs": [],
   "source": [
    "plt.plot(time_list[1:-1], Potential_list[1:-1])\n",
    "#plt.title('Evolution over time of the total potential energy')\n",
    "#plt.ylabel('Potential energy in J')\n",
    "\n",
    "Kin_list = []\n",
    "for i in trange (steps):\n",
    "    Kin_list += [Kinetic(Data_traj_list,i)]\n",
    "    \n",
    "plt.plot(time_list, Kin_list)\n",
    "plt.title('Evolution over time of the total kinetic energy')\n",
    "plt.xlabel('Time in fs')\n",
    "plt.ylabel('Kinetic energy in J')"
   ]
  },
  {
   "cell_type": "markdown",
   "metadata": {},
   "source": [
    "**Total kinetic energy (per step)**"
   ]
  },
  {
   "cell_type": "code",
   "execution_count": null,
   "metadata": {},
   "outputs": [],
   "source": [
    "Kin_list = []\n",
    "for i in trange (steps):\n",
    "    Kin_list += [Kinetic(Data_traj_list,i)]\n",
    "plt.plot(time_list, Kin_list)\n",
    "plt.title('Evolution over time of the total kinetic energy')\n",
    "plt.xlabel('Time in fs')\n",
    "plt.ylabel('Kinetic energy in J')"
   ]
  },
  {
   "cell_type": "markdown",
   "metadata": {},
   "source": [
    "**Interpretation of the results**"
   ]
  },
  {
   "cell_type": "markdown",
   "metadata": {},
   "source": [
    "## Task IV : Radial distribution function and two-particle PMF"
   ]
  },
  {
   "cell_type": "code",
   "execution_count": null,
   "metadata": {},
   "outputs": [],
   "source": [
    "def radial_function (Data_traj_list, t):\n",
    "    r_nbr = 250\n",
    "    Values_r = np.linspace(0, box[0]/2, r_nbr)\n",
    "    dn_allP_fixt = [0]*r_nbr\n",
    "    \n",
    "    for p_ind in range (Particule_Nbr):\n",
    "        dn_ring_fixP_fixT = [0]*r_nbr #number of particules in the ring area in function of r\n",
    "               \n",
    "        # All the other particles relative distances with the p_ind th particle at time t\n",
    "        r_vector_x = Relative_dist_arrays_X[t][p_ind,:]\n",
    "        r_vector_y = Relative_dist_arrays_Y[t][p_ind,:]\n",
    "        #removing the distance to itself \n",
    "        np.delete(r_vector_x,p_ind)\n",
    "        np.delete(r_vector_y,p_ind)\n",
    "        #Calculating the distance with all the other particuls (including over the borders)\n",
    "        radial_distance_list = [np.sqrt(r_vector_x[i]**2 + r_vector_y[i]**2) for i in range (len(r_vector_x))]\n",
    "\n",
    "        #count the number of particules in each ring area : Has to go tough 500*100 steps\n",
    "        for x in range(len(radial_distance_list)) :\n",
    "            radial_distance = radial_distance_list[x]\n",
    "\n",
    "            for r_ind in range(r_nbr) :\n",
    "                r = Values_r[r_ind]\n",
    "                if radial_distance <= r :\n",
    "                    dn_ring_fixP_fixT[r_ind] += 1\n",
    "                    dn_allP_fixt[r_ind] += 1/(Particule_Nbr-1)\n",
    "\n",
    "    return dn_allP_fixt"
   ]
  },
  {
   "cell_type": "code",
   "execution_count": null,
   "metadata": {},
   "outputs": [],
   "source": [
    "def radial_function_BIS (Data_traj_list, t):\n",
    "    r_nbr = 250\n",
    "    Values_r = np.linspace(0, box[0]/2, r_nbr)\n",
    "    Dlt_r = Values_r[1]- Values_r[0]\n",
    "    \n",
    "    dn_allP_fixt = [0]*r_nbr\n",
    "    \n",
    "    \n",
    "    r_vector_x = Relative_dist_arrays_X[t]\n",
    "    r_vector_y = Relative_dist_arrays_Y[t]\n",
    "    \n",
    "    for r_ind in range(r_nbr) :\n",
    "        r = Values_r[r_ind]\n",
    "        \n",
    "        #first e look at the values of the \n",
    "        rx = np.where((r_vector_x > r*np.sqrt(2)/2 )&(r_vector_x <= r + Dlt_r))\n",
    "        ry = np.where((r_vector_y <= r*np.sqrt(2)/2 )&(r_vector_y <= r + Dlt_r))\n",
    "        \n",
    "        indicesx = list(zip(rx[0], rx[1]))\n",
    "        indicesy = list(zip(ry[0], ry[1]))\n",
    "        \n",
    "        index_list = indicesx + list(set(indicesy) - set(indicesx))\n",
    "        #n_t = [0]*Particule_Nbr\n",
    "                 \n",
    "                      \n",
    "        for i in index_list :              \n",
    "            x = r_vector_x[i[0],i[1]]\n",
    "            y = r_vector_y[i[0],i[1]]\n",
    "\n",
    "            r_norm = np.sqrt(x**2 + y**2)\n",
    "\n",
    "            if r < r_norm <= (r + Dlt_r):\n",
    "                #number of particle in the ring r - r+Dltr (indice indicates the particle we are looking at)\n",
    "                # fixed t and r\n",
    "                #n_t[i[0]] += 1 \n",
    "                dn_allP_fixt[r_ind] += 1/(Particule_Nbr-1) #same but avergaged over all the particles\n",
    "\n",
    "    \n",
    "\n",
    "    return dn_allP_fixt"
   ]
  },
  {
   "cell_type": "code",
   "execution_count": null,
   "metadata": {},
   "outputs": [],
   "source": [
    "a = np.array([[1,4,19],[2,7,2]])\n",
    "r = np.where(a<8)\n",
    "r_p = list(zip(r[0], r[1]))\n",
    "#r_other_p = list(zip(r[0], r[1]))\n",
    "\n",
    "a = np.array([[1,4,19],[2,8,2]])\n",
    "r2 = np.where(a<5)\n",
    "r2_p = list(zip(r2[0], r2[1]))\n",
    "#r2_other_p = list(zip(r2[0], r2[1]))\n",
    "\n",
    "n_t = [0]*3\n",
    "for i in r_p :\n",
    "    if (ind_tuple in r2_p) == True :\n",
    "        x =  a[i[0],i[1]]\n",
    "        y = a[i[0],i[1]]\n",
    "        \n",
    "        r_norm = np.sqrt(x**2 + y**2)\n",
    "        print (r_norm)\n",
    "        if r_norm <= 3:\n",
    "            n_t[i[0]] += 1\n",
    "\n",
    "print(r_p)\n",
    "print(r2_p)"
   ]
  },
  {
   "cell_type": "markdown",
   "metadata": {},
   "source": [
    "The following cell is the one taking the majority of the running time (ca. 3h for 5000steps)"
   ]
  },
  {
   "cell_type": "code",
   "execution_count": null,
   "metadata": {},
   "outputs": [],
   "source": [
    "dn_total = [0]*steps\n",
    "for t in trange(steps):\n",
    "    dn_allP_fixT = radial_function (Data_traj_list, t)\n",
    "    for dn_ind in range(len(dn_allP_fixT)):\n",
    "        dn = dn_allP_fixT[dn_ind]\n",
    "        dn_total[dn_ind] += dn/steps"
   ]
  },
  {
   "cell_type": "code",
   "execution_count": null,
   "metadata": {},
   "outputs": [],
   "source": [
    "print(dn_allP_fixT)"
   ]
  },
  {
   "cell_type": "code",
   "execution_count": null,
   "metadata": {},
   "outputs": [],
   "source": [
    "plt.plot(np.linspace(0, box[0]/2, len(dn_total)), dn_total)"
   ]
  },
  {
   "cell_type": "markdown",
   "metadata": {},
   "source": [
    "**Radial distribution function g(n)**\n",
    "\n",
    "Calculate and display the time- and particle-averaged 2D RDF :\n",
    "\n",
    "$$ g(n) = \\frac{1}{2 \\pi r \\rho}\\frac{dn(r)}{dr} $$\n",
    "\n",
    "$dn(r)$ being here the difference bewteen two adjacent values in out dn list and $dr = \\Delta r = 0.01$"
   ]
  },
  {
   "cell_type": "code",
   "execution_count": null,
   "metadata": {},
   "outputs": [],
   "source": [
    "Values_r = np.linspace(0, box[0]/2, len(dn_total))\n",
    "\n",
    "def RDF (dn_total, Values_r):\n",
    "    rho = Particule_Nbr / (box[0]*box[1]) \n",
    "    gn = [0]*len(Values_r)\n",
    "    for r_ind in range(1,len(Values_r)) :\n",
    "        r = Values_r[r_ind]\n",
    "        dn = dn_total[r_ind]\n",
    "        gn[r_ind] = (1/ (2*np.pi*rho * r)) * dn\n",
    "        \n",
    "    return gn  "
   ]
  },
  {
   "cell_type": "code",
   "execution_count": null,
   "metadata": {},
   "outputs": [],
   "source": [
    "gn = RDF (dn_total, Values_r)"
   ]
  },
  {
   "cell_type": "code",
   "execution_count": null,
   "metadata": {},
   "outputs": [],
   "source": [
    "plt.plot(Values_r[5:], gn[5:], marker='None', markersize='10',  linestyle = '-', label='g(r)')  \n",
    "\n",
    "#plt.plot( [1.01,1.01],[0,max(gn)] , marker='None', markersize='10',  linestyle = '--', alpha=0.5, label='r=1.01') \n",
    "#plt.plot( [1.62,1.62],[0,max(gn)] , marker='None', markersize='10',  linestyle = '--', alpha=0.5, label='r=1.62') \n",
    "#plt.plot( [2.03,2.03],[0,max(gn)] , marker='None', markersize='10',  linestyle = '--', alpha=0.5, label='r=2.03') \n",
    "#plt.plot( [2.24,2.24],[0,max(gn)] , marker='None', markersize='10',  linestyle = '--', alpha=0.5, label='r=2.24') \n",
    "\n",
    "plt.xlabel('Values of r')\n",
    "plt.ylabel('RDF g(n)')\n",
    "plt.legend()\n",
    "#plt.xlim(0,0.25)\n",
    "\n",
    "Titles_graph1 = 'Radial distribution function g(n) \\n for ' + str(Particule_Nbr)+ ' particules, with ' + str(steps) + ' steps'\n",
    "ti = plt.title(Titles_graph1)\n",
    "plt.savefig('RDF01.png')"
   ]
  },
  {
   "cell_type": "code",
   "execution_count": null,
   "metadata": {},
   "outputs": [],
   "source": [
    "np.savez('save_gn_kin2.npz', gn, Kin_list )\n",
    "npzfile = np.load('save_gn_kin2.npz')"
   ]
  },
  {
   "cell_type": "code",
   "execution_count": null,
   "metadata": {},
   "outputs": [],
   "source": [
    "gn = npzfile['arr_0']\n",
    "Kin_list = npzfile['arr_1']"
   ]
  },
  {
   "cell_type": "markdown",
   "metadata": {},
   "source": [
    "We can clearly see the fact that the particules are placed in a regular grid initially, aswehaveagridof 7 by 7 particules, with periodic boundary conditions. Therefore with the radial distribution function we can clearly see the set distances of the other particules."
   ]
  },
  {
   "cell_type": "markdown",
   "metadata": {},
   "source": [
    "**Temperature**\n",
    "\n",
    "$$<E_{kin}> = \\frac{2}{2}k_{b} T$$"
   ]
  },
  {
   "cell_type": "code",
   "execution_count": null,
   "metadata": {},
   "outputs": [],
   "source": [
    "k_b = 8.314462 #J⋅K^(-1).mol^(-1)\n",
    "T = np.mean(Kin_list) / k_b\n",
    "print('Temperature', T)"
   ]
  },
  {
   "cell_type": "markdown",
   "metadata": {},
   "source": [
    "Wrong calculation of the temperature of wrong kinetic energy ?"
   ]
  },
  {
   "cell_type": "markdown",
   "metadata": {},
   "source": [
    "**Free Energy**"
   ]
  },
  {
   "cell_type": "code",
   "execution_count": null,
   "metadata": {},
   "outputs": [],
   "source": [
    "def Occupation_p (gn, Particule_Nbr):\n",
    "    Values_r = np.linspace(0, box[0]/2, len(gn))\n",
    "\n",
    "    rho = Particule_Nbr / (box[0]*box[1]) # = 0.5 particle/nm²\n",
    "    occ_P =  [ (rho**2)*gn[i]/Particule_Nbr for i in range(len(gn))]\n",
    "    return occ_P"
   ]
  },
  {
   "cell_type": "code",
   "execution_count": null,
   "metadata": {},
   "outputs": [],
   "source": [
    "occ_P = Occupation_p (gn, Particule_Nbr)"
   ]
  },
  {
   "cell_type": "code",
   "execution_count": null,
   "metadata": {},
   "outputs": [],
   "source": [
    "def Free_energy (gn, T):\n",
    "    Values_r = np.linspace(0, box[0]/2, 500)\n",
    "    k_b = 8.314462 #J⋅K^(-1).mol^(-1)\n",
    "    \n",
    "    \n",
    "    #Get rid of the eventual 0 and negative values at the beginning\n",
    "    NewR = []\n",
    "    NewG = []\n",
    "    for ind in range(len(gn)):\n",
    "        if occ_P[ind] != 0:\n",
    "            NewG += [abs(gn[ind])]\n",
    "            NewR += [Values_r[ind]]\n",
    "    #print(NewP)\n",
    "    FrE = [-k_b* T * np.log(NewG[i]) for i in range(len(NewG))]\n",
    "    return FrE, NewR"
   ]
  },
  {
   "cell_type": "code",
   "execution_count": null,
   "metadata": {},
   "outputs": [],
   "source": [
    "T = 293 #380.7 #Kelvin\n",
    "T2 = 200 #380.7 #Kelvin\n",
    "FrE, NewR = Free_energy (gn,T)\n",
    "FrE2, NewR2 = Free_energy (gn,T2)"
   ]
  },
  {
   "cell_type": "code",
   "execution_count": null,
   "metadata": {},
   "outputs": [],
   "source": [
    "plt.plot(NewR, FrE, marker='None', markersize='10',  linestyle = '-', label='T=293K')   \n",
    "plt.plot(NewR2, FrE2, marker='None', markersize='10',  linestyle = '-', label='T=200K')  \n",
    "\n",
    "\n",
    "plt.xlabel('Values of r')\n",
    "plt.ylabel('Free Energy (Delta F(r)')\n",
    "\n",
    "\n",
    "Titles_graph1 = 'Free energy plot \\n, for ' + str(Particule_Nbr)+ ' particules, with ' + str(steps) + ' steps'\n",
    "ti = plt.title(Titles_graph1)\n",
    "plt.legend()\n",
    "print('Average',np.average(FrE))"
   ]
  },
  {
   "cell_type": "code",
   "execution_count": null,
   "metadata": {},
   "outputs": [],
   "source": []
  },
  {
   "cell_type": "code",
   "execution_count": null,
   "metadata": {},
   "outputs": [],
   "source": []
  },
  {
   "cell_type": "markdown",
   "metadata": {},
   "source": [
    "* why is r_ij = 0 to be safe\n",
    "* define kb only once\n",
    "\n",
    "* Radial function weired looking\n",
    "* different scale of kinetic and potential energy ??\n",
    "* Temperature\n",
    "\n",
    "* new way of calculating potential after the simulation has run that it makes use of the relative distance matrix\n",
    "* why spike at r=0 RDF and normal that RDF = 0 for r > 1.25 ?"
   ]
  },
  {
   "cell_type": "code",
   "execution_count": null,
   "metadata": {},
   "outputs": [],
   "source": []
  },
  {
   "cell_type": "code",
   "execution_count": null,
   "metadata": {},
   "outputs": [],
   "source": []
  },
  {
   "cell_type": "code",
   "execution_count": null,
   "metadata": {},
   "outputs": [],
   "source": []
  },
  {
   "cell_type": "code",
   "execution_count": null,
   "metadata": {},
   "outputs": [],
   "source": []
  }
 ],
 "metadata": {
  "kernelspec": {
   "display_name": "Python 3",
   "language": "python",
   "name": "python3"
  },
  "language_info": {
   "codemirror_mode": {
    "name": "ipython",
    "version": 3
   },
   "file_extension": ".py",
   "mimetype": "text/x-python",
   "name": "python",
   "nbconvert_exporter": "python",
   "pygments_lexer": "ipython3",
   "version": "3.8.3"
  }
 },
 "nbformat": 4,
 "nbformat_minor": 4
}
